{
 "cells": [
  {
   "cell_type": "markdown",
   "id": "b985c5b5-1d65-4e4a-82d1-2dfc9768d97d",
   "metadata": {},
   "source": [
    "## Medical Question answering with Retrieval Augmented Generation design pattern. \n",
    "Use Python 3 (Data Science 3.0) kernel image and `ml.m5.2xlarge` for this notebook.\n",
    "\n",
    "This includes generating embeddings of all existing documents, indexing them in a vector store. Then for every user query, generate local embeddings and search based on embedding distance. The search responses act as context to the LLM model to generate a output. \n",
    "\n",
    "Challenges:\n",
    "How to manage large document(s) that exceed the token limitHow to find the document(s) relevant to the question being asked"
   ]
  },
  {
   "cell_type": "markdown",
   "id": "dc84657b-0fff-4476-980d-d74894a74c27",
   "metadata": {},
   "source": [
    "## Key components\n",
    "\n",
    "LLM (Large Language Model): Mistral-7b-instruct available through Amazon SageMaker This model will be used to understand the document chunks and provide an answer in human friendly manner.\n",
    "\n",
    "Embeddings Model: BGE Small available through Amazon SageMaker. This model will be used to generate a numerical representation of the textual documents.\n",
    "\n",
    "Vector Store: FAISS available through LangChainIn this notebook we are using this in-memory vector-store to store both the embeddings and the documents. In an enterprise context this could be replaced with a persistent store such as AWS OpenSearch, RDS Postgres with pgVector, ChromaDB, Pinecone or Weaviate.\n",
    "\n",
    "Index: VectorIndex The index helps to compare the input embedding and the document embeddings to find relevant document"
   ]
  },
  {
   "cell_type": "markdown",
   "id": "ed87a992-1790-4d4e-8ffd-ab7c053156c1",
   "metadata": {},
   "source": [
    "### Dataset\n",
    "To explain this architecture pattern we are using the documents from MedQA. These documents include medical textbooks such as:\n",
    "Pathology, Anatomy, Pharmacology and others. "
   ]
  },
  {
   "cell_type": "markdown",
   "id": "6d0c4a8b-f1a1-4fc6-831c-3fdb522cf941",
   "metadata": {},
   "source": [
    "Download textbooks that are part of Q&A dataset MedQA released as part of Jin, Di, et al. \"What Disease does this Patient Have? A Large-scale Open Domain Question Answering Dataset from Medical Exams.\" arXiv preprint arXiv:2009.13081 (2020). \n",
    "\n",
    "More details are available here https://github.com/jind11/MedQA"
   ]
  },
  {
   "cell_type": "markdown",
   "id": "d02ed552-d458-4dd3-9b13-e3e997e10ade",
   "metadata": {},
   "source": [
    "* Data source : @article{jin2020disease,\n",
    "  title={What Disease does this Patient Have? A Large-scale Open Domain Question Answering Dataset from Medical Exams},\n",
    "  author={Jin, Di and Pan, Eileen and Oufattole, Nassim and Weng, Wei-Hung and Fang, Hanyi and Szolovits, Peter},\n",
    "  journal={arXiv preprint arXiv:2009.13081},\n",
    "  year={2020} }\n",
    "  \n",
    "  "
   ]
  },
  {
   "cell_type": "markdown",
   "id": "66ff5221-0349-4617-814d-98c79db7cfb1",
   "metadata": {},
   "source": [
    "### Data preparation\n",
    "\n",
    "> **NOTICE**: \"This link leads to a Third-Party Dataset. AWS does not own, nor does it have any control over the Third-Party Dataset. You should perform your own independent assessment, and take measures to ensure that you comply with your own specific quality control practices and standards, and the local rules, laws, regulations, licenses and terms of use that apply to you, your content, and the Third-Party Dataset. AWS does not make any representations or warranties that the Third-Party Dataset is secure, virus-free, accurate, operational, or compatible with your own environment and standards. AWS does not make any representations, warranties or guarantees that any information in the Third-Party Dataset will result in a particular outcome or result.\"\n",
    "\n",
    "1. The full dataset can be downloaded can be seen from https://drive.google.com/file/d/1ImYUSLk9JbgHXOemfvyiDiirluZHPeQw/view?usp=sharing. You can read more about the dataset in https://github.com/jind11/MedQA#data.\n",
    "2. To speed up the uploading for this lab, a smaller version of dataset is already downloaded -  https://d2qrbbbqnxtln.cloudfront.net/Pathology_Robbins.txt"
   ]
  },
  {
   "cell_type": "markdown",
   "id": "57aa4ada-a686-43de-bc90-0f4107f95ce1",
   "metadata": {},
   "source": [
    "##### Prerequisites"
   ]
  },
  {
   "cell_type": "code",
   "execution_count": 1,
   "id": "90b71850-cf8d-4232-866e-53f7a8a685e5",
   "metadata": {
    "tags": []
   },
   "outputs": [
    {
     "name": "stdout",
     "output_type": "stream",
     "text": [
      "\u001b[31mERROR: pip's dependency resolver does not currently take into account all the packages that are installed. This behaviour is the source of the following dependency conflicts.\n",
      "jupyter-ai 2.29.1 requires faiss-cpu!=1.8.0.post0,<2.0.0,>=1.8.0, but you have faiss-cpu 1.7.4 which is incompatible.\u001b[0m\u001b[31m\n",
      "Note: you may need to restart the kernel to use updated packages.\n"
     ]
    }
   ],
   "source": [
    "%pip install faiss-cpu==1.7.4 --quiet"
   ]
  },
  {
   "cell_type": "code",
   "execution_count": 2,
   "id": "6139ec9e-962f-44b4-94c1-9a778e4d2be4",
   "metadata": {
    "tags": []
   },
   "outputs": [],
   "source": [
    "# %pip install langchain==0.0.222 --quiet"
   ]
  },
  {
   "cell_type": "code",
   "execution_count": 2,
   "id": "faf12933-564a-41a3-9a9e-c02a9437310e",
   "metadata": {
    "tags": []
   },
   "outputs": [],
   "source": [
    "%%capture \n",
    "\n",
    "!pip install PyYAML --quiet"
   ]
  },
  {
   "cell_type": "code",
   "execution_count": 3,
   "id": "c0598ca2-19e4-423e-91be-37539f7bd21b",
   "metadata": {},
   "outputs": [],
   "source": [
    "!pip install --upgrade pydantic langchain --quiet\n"
   ]
  },
  {
   "cell_type": "markdown",
   "id": "52706ec1-fd47-42d4-af0f-33f0a03f654d",
   "metadata": {},
   "source": [
    "#### Imports"
   ]
  },
  {
   "cell_type": "code",
   "execution_count": 4,
   "id": "81eea5f6-50e3-4398-80eb-11b680d026b4",
   "metadata": {
    "tags": []
   },
   "outputs": [],
   "source": [
    "import boto3\n",
    "import json\n",
    "import numpy as np\n",
    "from langchain.text_splitter import RecursiveCharacterTextSplitter\n",
    "from langchain.document_loaders import TextLoader\n",
    "from langchain.chains import RetrievalQA\n",
    "from langchain.llms import SagemakerEndpoint\n",
    "from langchain.embeddings import SagemakerEndpointEmbeddings\n",
    "from langchain.embeddings.sagemaker_endpoint import EmbeddingsContentHandler\n",
    "from langchain.vectorstores import FAISS\n",
    "from typing import Any, Dict, List, Optional\n",
    "import os\n",
    "import logging\n",
    "import requests\n",
    "import yaml\n",
    "import faiss"
   ]
  },
  {
   "cell_type": "markdown",
   "id": "49ec6d42-db7a-4c4c-8322-95963806f987",
   "metadata": {},
   "source": [
    "##### Setup logging"
   ]
  },
  {
   "cell_type": "code",
   "execution_count": 5,
   "id": "fcddd51c-9251-4428-9931-b2700a71142a",
   "metadata": {
    "tags": []
   },
   "outputs": [],
   "source": [
    "logger = logging.getLogger('sagemaker')\n",
    "logger.setLevel(logging.DEBUG)\n",
    "logger.addHandler(logging.StreamHandler())"
   ]
  },
  {
   "cell_type": "markdown",
   "id": "4a81f78f-675d-4009-9228-8fa3cfc559b8",
   "metadata": {},
   "source": [
    "##### Log versions of dependencies "
   ]
  },
  {
   "cell_type": "code",
   "execution_count": 6,
   "id": "75474334-8b19-4491-abb9-58468bc33329",
   "metadata": {
    "tags": []
   },
   "outputs": [
    {
     "name": "stderr",
     "output_type": "stream",
     "text": [
      "Using requests==2.32.3\n",
      "Using pyyaml==6.0.2\n"
     ]
    }
   ],
   "source": [
    "logger.info(f'Using requests=={requests.__version__}')\n",
    "logger.info(f'Using pyyaml=={yaml.__version__}')"
   ]
  },
  {
   "cell_type": "markdown",
   "id": "c52e3b3f-f770-4b90-bc35-12cc0f793604",
   "metadata": {},
   "source": [
    "#### Setup essentials"
   ]
  },
  {
   "cell_type": "code",
   "execution_count": 29,
   "id": "a25a24c9-b504-45a0-888d-fe507b34402d",
   "metadata": {
    "tags": []
   },
   "outputs": [],
   "source": [
    "TEXT_EMBEDDING_MODEL_ENDPOINT_NAME = 'jumpstart-dft-hf-sentencesimilarity-20250327-021732' #INSERT EMBEDDING ENDPOINT NAME IF DIFFERENT\n",
    "TEXT_GENERATION_MODEL_ENDPOINT_NAME = 'jumpstart-dft-hf-llm-mistral-7b-ins-20250327-022258' #INSERT TEXT GENERATION ENDPOINT NAME IF DIFFERENT\n",
    "\n",
    "REGION_NAME = boto3.session.Session().region_name"
   ]
  },
  {
   "cell_type": "code",
   "execution_count": null,
   "id": "5f885e3f-2267-497a-9445-a7241832b924",
   "metadata": {},
   "outputs": [],
   "source": []
  },
  {
   "cell_type": "markdown",
   "id": "15360977-8631-4a21-a599-b91c91c8c893",
   "metadata": {},
   "source": [
    "#### Encode passages (chunks) using JumpStart's GPT-J text embedding model . We are specifically using only 1 of 20 textbooks from the dataset. It takes about 6 minutes to generate embeddings for one textbook (for example, Pathology). You can increase the number of textbooks indexed by adding sufficient time buffer for execution. "
   ]
  },
  {
   "cell_type": "markdown",
   "id": "b75ed59e-7553-4e57-af5e-29d345a00028",
   "metadata": {},
   "source": [
    "In order to follow the RAG approach this notebook is using the LangChain framework where it has integrations with different services and tools that allow efficient building of patterns such as RAG. "
   ]
  },
  {
   "cell_type": "code",
   "execution_count": 8,
   "id": "1ad7c4b7-c6bd-40c2-b91e-0d6370fce251",
   "metadata": {
    "tags": []
   },
   "outputs": [],
   "source": [
    "import numpy as np\n",
    "from langchain.text_splitter import RecursiveCharacterTextSplitter\n",
    "from langchain.document_loaders import DirectoryLoader, TextLoader\n",
    "\n",
    "loader = DirectoryLoader(\"./\", glob=\"**/Pathology*.txt\", loader_cls=TextLoader)\n",
    "\n",
    "documents = loader.load()\n",
    "# - in our testing Character split works better with this PDF data set\n",
    "text_splitter = RecursiveCharacterTextSplitter(\n",
    "    # Set a really small chunk size, just to show.\n",
    "    chunk_size = 1000,\n",
    "    chunk_overlap  = 100,\n",
    ")\n",
    "docs = text_splitter.split_documents(documents)"
   ]
  },
  {
   "cell_type": "code",
   "execution_count": 9,
   "id": "ad63c24e-190f-46ef-bfc7-2dac1112765e",
   "metadata": {
    "tags": []
   },
   "outputs": [
    {
     "name": "stdout",
     "output_type": "stream",
     "text": [
      "page_content='Plasma Membrane: Protection and Nutrient Acquisition\n",
      "\n",
      "Biosynthetic Machinery: Endoplasmic Reticulum and Golgi Apparatus\n",
      "\n",
      "Waste Disposal: Lysosomes and Proteasomes\n",
      "\n",
      "Modular Signaling Proteins, Hubs, and\n",
      "\n",
      "Components of the Extracellular Matrix\n",
      "\n",
      "Proliferation and the Cell Cycle\n",
      "\n",
      "Pathology literally translates to the study of suffering (Greek pathos = suffering, logos = study); as applied to modern medicine, it is the study of disease. Virchow was certainly correct in asserting that disease originates at the cellular level, but we now realize that cellular disturbances arise from alterations in molecules (genes, proteins, and others) that influence the survival and behavior of cells. Thus, the foundation of modern pathology is understanding the cellular and molecular abnormalities that give rise to diseases. It is helpful to consider these abnormalities in the context of normal cellular structure and function, which is the theme of this introductory chapter.' metadata={'source': 'Pathology_Robbins.txt'}\n"
     ]
    }
   ],
   "source": [
    "print(docs[0])"
   ]
  },
  {
   "cell_type": "code",
   "execution_count": 10,
   "id": "8f4d6873-3ea9-4455-8b8d-cad845009a08",
   "metadata": {
    "tags": []
   },
   "outputs": [
    {
     "name": "stdout",
     "output_type": "stream",
     "text": [
      "Average length among 1 documents loaded is 3784898 characters.\n",
      "After the split we have 5171 documents more than the original 1.\n",
      "Average length among 5171 documents (after split) is 744 characters.\n"
     ]
    }
   ],
   "source": [
    "avg_doc_length = lambda documents: sum([len(doc.page_content) for doc in documents])//len(documents)\n",
    "avg_char_count_pre = avg_doc_length(documents)\n",
    "avg_char_count_post = avg_doc_length(docs)\n",
    "print(f'Average length among {len(documents)} documents loaded is {avg_char_count_pre} characters.')\n",
    "print(f'After the split we have {len(docs)} documents more than the original {len(documents)}.')\n",
    "print(f'Average length among {len(docs)} documents (after split) is {avg_char_count_post} characters.')"
   ]
  },
  {
   "cell_type": "code",
   "execution_count": 30,
   "id": "7a82c416-9401-4b81-af41-f1ff334902d2",
   "metadata": {
    "tags": []
   },
   "outputs": [
    {
     "name": "stdout",
     "output_type": "stream",
     "text": [
      "Number of chunks: 5171\n"
     ]
    }
   ],
   "source": [
    "# Embedding Setup\n",
    "# Embedding Setup\n",
    "class SagemakerEndpointEmbeddingsJumpStart(SagemakerEndpointEmbeddings):\n",
    "    def embed_documents(self, texts: List[str], chunk_size: int = 5) -> List[List[float]]:\n",
    "        \"\"\"Compute doc embeddings using a SageMaker Inference Endpoint.\n",
    "\n",
    "        Args:\n",
    "            texts: The list of texts to embed.\n",
    "            chunk_size: The chunk size defines how many input texts will\n",
    "                be grouped together as request. If None, will use the\n",
    "                chunk size specified by the class.\n",
    "\n",
    "        Returns:\n",
    "            List of embeddings, one for each text.\n",
    "        \"\"\"\n",
    "        results = []\n",
    "        _chunk_size = len(texts) if chunk_size > len(texts) else chunk_size\n",
    "\n",
    "        for i in range(0, len(texts), _chunk_size):\n",
    "            response = self._embedding_func(texts[i : i + _chunk_size])\n",
    "            print\n",
    "            results.extend(response)\n",
    "        return results\n",
    "\n",
    "\n",
    "class ContentHandler(EmbeddingsContentHandler):  # Inherit from EmbeddingsContentHandler\n",
    "    content_type = \"application/json\"\n",
    "    accepts = \"application/json\"\n",
    "\n",
    "    def transform_input(self, prompt: str, model_kwargs={}) -> bytes:\n",
    "        # Use \"embedding\" mode for both documents and queries.\n",
    "        input_str = json.dumps({\"text_inputs\": prompt, \"mode\": \"embedding\", **model_kwargs})\n",
    "        return input_str.encode(\"utf-8\")\n",
    "\n",
    "    def transform_output(self, output: bytes) -> List[float]: #Expects to return a list of floats\n",
    "        response_json = json.loads(output.read().decode(\"utf-8\"))\n",
    "        embeddings = response_json[\"embedding\"]\n",
    "        return embeddings\n",
    "\n",
    "\n",
    "content_handler = ContentHandler()\n",
    "\n",
    "sagemakerEndpointEmbeddingsJumpStart = SagemakerEndpointEmbeddingsJumpStart(\n",
    "    endpoint_name=TEXT_EMBEDDING_MODEL_ENDPOINT_NAME,\n",
    "    region_name=REGION_NAME,\n",
    "    content_handler=content_handler\n",
    ")\n",
    "\n",
    "\n",
    "# Load Data and Split (important to call after sagemakerEndpointEmbeddingsJumpStart is initiated)\n",
    "loader = TextLoader(\"./Pathology_Robbins.txt\")  # Replace with your data file\n",
    "documents = loader.load()\n",
    "\n",
    "text_splitter = RecursiveCharacterTextSplitter(chunk_size=1000, chunk_overlap=100)\n",
    "docs = text_splitter.split_documents(documents)\n",
    "\n",
    "print(f\"Number of chunks: {len(docs)}\")\n",
    "\n"
   ]
  },
  {
   "cell_type": "code",
   "execution_count": 31,
   "id": "e1ce0559-7ac9-429d-8527-6617759d3249",
   "metadata": {
    "tags": []
   },
   "outputs": [
    {
     "name": "stdout",
     "output_type": "stream",
     "text": [
      "Plasma Membrane: Protection and Nutrient Acquisition\n",
      "\n",
      "Biosynthetic Machinery: Endoplasmic Reticulum and Golgi Apparatus\n",
      "\n",
      "Waste Disposal: Lysosomes and Proteasomes\n",
      "\n",
      "Modular Signaling Proteins, Hubs, and\n",
      "\n",
      "Components of the Extracellular Matrix\n",
      "\n",
      "Proliferation and the Cell Cycle\n",
      "\n",
      "Pathology literally translates to the study of suffering (Greek pathos = suffering, logos = study); as applied to modern medicine, it is the study of disease. Virchow was certainly correct in asserting that disease originates at the cellular level, but we now realize that cellular disturbances arise from alterations in molecules (genes, proteins, and others) that influence the survival and behavior of cells. Thus, the foundation of modern pathology is understanding the cellular and molecular abnormalities that give rise to diseases. It is helpful to consider these abnormalities in the context of normal cellular structure and function, which is the theme of this introductory chapter.\n"
     ]
    }
   ],
   "source": [
    "print(docs[0].page_content)"
   ]
  },
  {
   "cell_type": "markdown",
   "id": "dcec3e6b-2aa2-4a3e-a436-418f4a441dc1",
   "metadata": {},
   "source": [
    "#### Encode passages (chunks) using JumpStart's BGE text embedding model . We are specifically using only 1 of 20 textbooks from the dataset. It takes about 6 minutes to generate embeddings for one textbook (for example, Pathology). You can increase the number of textbooks indexed by adding sufficient time buffer for execution."
   ]
  },
  {
   "cell_type": "markdown",
   "id": "b11bdba3-8541-495b-8304-c22e4fa05ab2",
   "metadata": {
    "tags": []
   },
   "source": [
    "---\n",
    "## Semantic Similarity with Amazon Jumpstart Embedding Models\n",
    "\n",
    "Semantic search refers to searching for information based on the meaning and concepts of words and phrases, rather than just matching keywords. Embedding models like Amazon Titan Embeddings allow semantic search by representing words and sentences as dense vectors that encode their semantic meaning.\n",
    "\n",
    "Semantic matching is extremely helpful for RAG because it returns results that are conceptually related to the user's query, even if they don't contain the exact keywords. This leads to more relevant and useful search results which can be injected into our LLM's prompts.\n",
    "\n",
    "First, let's take a look below to illustrate the sample of an embedding"
   ]
  },
  {
   "cell_type": "code",
   "execution_count": 32,
   "id": "0b4f2c08-3ba7-4e2b-8c70-179b794863b7",
   "metadata": {
    "tags": []
   },
   "outputs": [
    {
     "name": "stdout",
     "output_type": "stream",
     "text": [
      "Sample embedding of a document chunk:  [-2.68548373e-02 -5.14841871e-03  8.22765604e-02  2.51330547e-02\n",
      " -5.26014669e-03 -5.87520450e-02  7.25993514e-02  5.83153265e-03\n",
      "  1.96829159e-03 -1.03373043e-02  2.18124315e-02 -7.02288449e-02\n",
      "  3.04869432e-02 -2.42926478e-02  1.07806809e-02  1.18084755e-02\n",
      " -4.04602120e-04  4.70750406e-02 -4.19485047e-02  2.68056672e-02\n",
      " -1.20089045e-02 -4.66680191e-02  7.61874812e-03 -7.36146793e-02\n",
      "  3.83745246e-02  5.43740168e-02 -7.34584220e-03 -4.35480615e-03\n",
      " -3.49703655e-02 -1.43278882e-01  5.94927871e-04 -7.77929882e-03\n",
      "  3.37314117e-03  3.28561850e-02  1.15412083e-02 -2.63297465e-02\n",
      " -1.76403560e-02 -4.29618685e-03 -3.88793573e-02  5.76247927e-03\n",
      "  5.42547517e-02  8.73222575e-03 -4.60612774e-02  6.76298980e-03\n",
      "  3.03594731e-02 -4.08621617e-02  3.95240774e-03 -2.54773833e-02\n",
      "  4.18353826e-02 -4.78082784e-02 -4.71962839e-02 -1.01800738e-02\n",
      "  1.61627885e-02  4.23433036e-02  4.70918603e-03 -1.95064899e-02\n",
      "  5.22197708e-02  3.16964127e-02  5.02787903e-02  4.25303467e-02\n",
      "  3.80729437e-02 -2.05402561e-02 -1.03657141e-01  5.41143939e-02\n",
      "  9.71684605e-02 -3.96241695e-02 -6.21269532e-02 -7.28504034e-03\n",
      "  5.83358184e-02  5.15243411e-02 -1.00339867e-01  6.73864619e-04\n",
      "  5.25830463e-02  1.31628048e-02  2.19117347e-02  1.80455670e-02\n",
      " -2.25094687e-02 -6.11253455e-02  5.66726327e-02 -6.64529158e-03\n",
      "  4.96593975e-02  4.72984985e-02  4.22749855e-02  2.69438624e-02\n",
      " -6.59109503e-02 -2.90379990e-02 -7.49360472e-02 -2.55870949e-02\n",
      " -3.09919417e-02  3.42409238e-02 -2.60323379e-02 -5.37997037e-02\n",
      "  3.03510558e-02  4.88214754e-02 -6.69362694e-02 -8.13188627e-02\n",
      " -2.06226818e-02 -2.06794329e-02  3.48387845e-02  3.76865596e-01\n",
      " -7.29312077e-02  3.42178112e-03 -2.02655103e-02  1.02982204e-02\n",
      " -1.48503119e-02 -2.17185766e-02  5.54409693e-04 -2.62069749e-03\n",
      " -3.37394811e-02  7.29091987e-02  8.11257772e-03  4.15923856e-02\n",
      " -6.41891500e-03 -4.40465845e-03  2.62456015e-02 -6.25596344e-02\n",
      "  9.16278549e-03  3.49132232e-02 -2.91693024e-02  3.93648148e-02\n",
      "  1.05828112e-02 -9.05952975e-03  4.98902723e-02 -4.12030779e-02\n",
      "  9.37357023e-02  3.05189956e-02 -5.35694622e-02  8.88185427e-02\n",
      "  7.97980875e-02 -1.14649415e-01  2.86856685e-02  7.43314549e-02\n",
      " -7.59986863e-02  3.62353548e-02  3.05524003e-02 -5.07682608e-03\n",
      " -1.07583292e-02 -4.13322821e-02 -2.55099172e-03  1.61422491e-02\n",
      " -6.26115501e-03 -1.84427984e-02 -4.41383384e-02 -3.72911617e-02\n",
      " -7.70636871e-02  9.82971191e-02  7.16475770e-03 -1.36278034e-03\n",
      " -5.55215701e-02  2.34963782e-02  5.85299358e-02  2.08072718e-02\n",
      "  1.95030570e-02  2.67652106e-02 -1.86774377e-02  4.58235964e-02\n",
      " -2.54264276e-04 -3.22866924e-02  1.52143545e-03 -6.13712929e-02\n",
      " -8.22955221e-02 -3.02251838e-02  2.16027107e-02  1.60680220e-01\n",
      "  8.96215737e-02  1.93299782e-02 -1.68753359e-02  5.81088522e-03\n",
      "  1.05866790e-03 -4.05060127e-02 -1.78094804e-02 -1.64856184e-02\n",
      " -1.08674606e-02 -3.31040174e-02 -1.06453765e-02 -9.76991281e-03\n",
      " -1.47278244e-02 -3.15275528e-02 -4.78893854e-02 -1.28059499e-02\n",
      "  5.61476797e-02 -4.28541563e-03 -2.74217501e-02 -1.40082203e-02\n",
      "  3.82403061e-02  3.14122178e-02 -7.22217783e-02  5.86807020e-02\n",
      "  1.05967009e-02  7.83223473e-03 -2.89232330e-03  3.71090062e-02\n",
      " -6.77600726e-02  4.59406478e-03 -5.88110797e-02 -5.37639633e-02\n",
      " -2.76570674e-02 -1.48072159e-02 -3.97301689e-02 -1.35833342e-02\n",
      "  2.24885736e-02  5.75075904e-03  1.65831875e-02  2.02064812e-02\n",
      " -3.48200351e-02  9.56834480e-03 -7.47682387e-03  1.23114185e-02\n",
      "  1.13388747e-02 -1.70758031e-02 -5.12812845e-02  1.01627456e-02\n",
      " -5.72969131e-02 -1.60684101e-02  4.57031392e-02  5.85396634e-03\n",
      " -2.22972501e-03 -1.26087274e-02  7.46589825e-02  1.11989835e-02\n",
      "  3.23896296e-02  1.66717581e-02 -6.83297291e-02 -3.03556412e-01\n",
      " -6.64777234e-02  1.95441511e-03 -2.84233950e-02 -1.02367075e-02\n",
      "  1.84376463e-02 -5.78392949e-03 -3.35701331e-02 -3.11797597e-02\n",
      " -8.89012404e-03  1.02687262e-01  4.46164943e-02 -1.94590297e-02\n",
      " -6.55284822e-02  1.58752874e-02 -1.87290669e-03  4.30354141e-02\n",
      " -6.61926866e-02 -5.93295358e-02  1.03019923e-02  4.11610305e-03\n",
      " -4.81011486e-03  6.27107769e-02 -9.86667629e-03  2.13732198e-02\n",
      "  1.08823562e-02  1.05666928e-01  1.82383787e-02 -5.14599634e-03\n",
      " -1.36063928e-02  1.52911863e-03  1.73159540e-02  3.61892889e-04\n",
      " -8.28743502e-02 -2.79574096e-02 -2.98159495e-02 -1.75277218e-02\n",
      " -3.28856558e-02 -5.29654808e-02 -5.67929000e-02 -3.29239629e-02\n",
      "  2.54048258e-02 -4.10291366e-02  2.64504156e-03 -4.91926521e-02\n",
      "  1.90787651e-02  5.46508804e-02  2.07064655e-02  3.56922410e-02\n",
      "  7.90409558e-03 -2.75888713e-03 -2.61823814e-02  4.76078736e-03\n",
      " -3.87512185e-02  2.35192478e-02 -1.75990462e-02 -3.93022709e-02\n",
      " -2.89346315e-02 -8.35595950e-02  1.90379191e-02  3.25859152e-02\n",
      "  3.36638764e-02 -2.05205902e-02 -1.90901458e-02  1.85606070e-02\n",
      " -4.24279794e-02  2.50763120e-03 -3.39870267e-02  6.07766248e-02\n",
      " -2.65978370e-02 -2.67240908e-02  6.37895837e-02  8.90353322e-03\n",
      " -7.31316814e-03  6.55296892e-02 -6.98554330e-03  1.42259877e-02\n",
      "  1.00996289e-02 -3.31510343e-02  3.69652435e-02  5.38469180e-02\n",
      " -6.39379770e-02  1.69377979e-02  9.17249825e-03  1.92523468e-02\n",
      " -1.05295994e-03  3.12353373e-02 -2.48669349e-02  5.96402958e-03\n",
      " -3.13566737e-02 -4.08093333e-02  1.30595053e-02 -3.19455825e-02\n",
      " -4.23799604e-02 -3.78988311e-02  4.13871519e-02 -2.66465038e-01\n",
      "  6.44749254e-02  2.03109551e-02  5.79156019e-02 -2.86874939e-02\n",
      "  2.58067418e-02  1.93994381e-02 -1.78362858e-02  1.44923376e-02\n",
      "  1.67718045e-02  9.45118219e-02 -2.70209368e-02  9.66819152e-02\n",
      " -2.20886488e-02  1.75894871e-02  3.77681293e-02  9.00395811e-02\n",
      " -4.30542715e-02  1.39891068e-02 -2.48883516e-02 -1.03413209e-03\n",
      " -1.62688307e-02  1.66893974e-01 -9.87396985e-02  1.66546497e-02\n",
      "  2.00711507e-02 -3.08991335e-02  1.20896837e-02 -4.04503159e-02\n",
      "  2.63711195e-02  3.28335054e-02  1.20940460e-02  5.94366267e-02\n",
      " -3.37953353e-03  1.40216099e-02  1.09085497e-02  3.62292528e-02\n",
      "  9.03305262e-02 -3.07077188e-02 -8.04003607e-03  1.48095749e-02\n",
      "  7.77225476e-03 -5.22051118e-02 -1.31523851e-02  6.94408864e-02\n",
      " -2.21623611e-02 -1.19508039e-02 -6.80670887e-03  4.64264750e-02\n",
      "  5.73024452e-02 -3.55342515e-02  1.31547339e-02 -1.76416039e-02\n",
      "  9.34951997e-04 -5.18996865e-02  2.26468202e-02  4.78880331e-02\n",
      " -4.28727921e-03  4.58892100e-02  3.24057341e-02  3.56721692e-02\n",
      "  6.26876503e-02 -5.28441854e-02  1.24849722e-01 -9.23543144e-03]\n",
      "Size of the embedding:  (384,)\n"
     ]
    }
   ],
   "source": [
    "sample_embedding = np.array(sagemakerEndpointEmbeddingsJumpStart.embed_query(docs[0].page_content))\n",
    "print(\"Sample embedding of a document chunk: \", sample_embedding)\n",
    "print(\"Size of the embedding: \", sample_embedding.shape)"
   ]
  },
  {
   "cell_type": "markdown",
   "id": "1c8c7292-6931-4155-9e23-5c546801e868",
   "metadata": {},
   "source": [
    "Now create embeddings for the entire document set. Note for a single medical textbook, it takes about 6 minutes."
   ]
  },
  {
   "cell_type": "code",
   "execution_count": 14,
   "id": "849fe71f-15e1-4eef-9a40-dbda901e39a2",
   "metadata": {},
   "outputs": [],
   "source": [
    "#FAISS Indexing\n",
    "db = FAISS.from_documents(docs, sagemakerEndpointEmbeddingsJumpStart) #embeddings\n",
    "db.save_local(\"faiss_index\")\n"
   ]
  },
  {
   "cell_type": "code",
   "execution_count": 33,
   "id": "51dc83aa-05cb-48f9-9bf6-80ee71b055eb",
   "metadata": {},
   "outputs": [],
   "source": [
    "loaded_db = FAISS.load_local(\n",
    "    \"faiss_index\", \n",
    "    sagemakerEndpointEmbeddingsJumpStart,\n",
    "    allow_dangerous_deserialization=True  # Add this parameter\n",
    ")"
   ]
  },
  {
   "cell_type": "markdown",
   "id": "f606ae3c-3ed2-4cd1-b9ba-40088614e0fa",
   "metadata": {},
   "source": [
    "Next, we insert the embeddings to the FAISS vector store"
   ]
  },
  {
   "cell_type": "markdown",
   "id": "6b4fef5b-06cb-401a-812d-f4f1823398e9",
   "metadata": {},
   "source": [
    "Next we create user query to retrieve a response from vector search and LLM combined"
   ]
  },
  {
   "cell_type": "code",
   "execution_count": 34,
   "id": "c44dc28a-aa54-46f9-ab32-83b8a5aa765d",
   "metadata": {},
   "outputs": [
    {
     "name": "stdout",
     "output_type": "stream",
     "text": [
      "Acute tubular injury (ATI) is a clinicopathologic entity characterized by damage to tubular epithelial cells and an acute decline in renal function, often associated with shedding of granular casts and tubular cells into the urine. Clinicians use the term acute tubular necrosis, but frank necrosis is rarely observed in a kidney biopsy, so pathologists prefer the term acute tubular injury. The constellation of changes, broadly termed acute kidney injury, manifests clinically as decreased GFR with concurrent elevation of serum creatinine. ATI is the most common cause of acute kidney injury and may produce oliguria (defined as urine output of <400 mL/day).\n",
      "\n",
      "http://ebooksmedicine.net\n",
      "\n",
      "There are two forms of ATI that differ in the underlying causes.\n",
      "-------------------\n",
      "Shiga toxin–associated HUS is characterized by the sudden onset, usually after a gastrointestinal or flulike prodromal episode, of bleeding manifestations (especially hematemesis and melena), severe oliguria, hematuria, microangiopathic hemolytic anemia, and (in some individuals) prominent neurologic changes. This disease is one of the main causes of acute kidney injury in children. If the acute kidney injury is managed properly with dialysis, most patients recover in a matter of weeks. The long-term prognosis (over 15–25 years), however, is not uniformly favorable, as about 25% of affected children eventually develop renal insufficiency.\n",
      "-------------------\n",
      "Most forms of tubular injury also involve the interstitium, so the two are discussed together. Presented under this heading are diseases characterized by (1) inflammatory involvement of the tubules and interstitium (tubulointerstitial nephritis) and (2) ischemic or toxic tubular injury, leading to acute tubular injury and the clinical syndrome of acute kidney injury.\n",
      "-------------------\n"
     ]
    }
   ],
   "source": [
    "# Method 1: Simple similarity search\n",
    "query = \"What is acute kidney injury?\"\n",
    "k = 3  # number of results you want to retrieve\n",
    "docs = loaded_db.similarity_search(query, k=k)\n",
    "\n",
    "# Print the results\n",
    "for doc in docs:\n",
    "    print(doc.page_content)\n",
    "    print(\"-------------------\")"
   ]
  },
  {
   "cell_type": "code",
   "execution_count": 25,
   "id": "60d05b0a-45f8-4c08-850e-7bc1ea2ab7ea",
   "metadata": {},
   "outputs": [
    {
     "name": "stdout",
     "output_type": "stream",
     "text": [
      "Score: 0.31192612648010254\n",
      "Content: Acute tubular injury (ATI) is a clinicopathologic entity characterized by damage to tubular epithelial cells and an acute decline in renal function, often associated with shedding of granular casts and tubular cells into the urine. Clinicians use the term acute tubular necrosis, but frank necrosis is rarely observed in a kidney biopsy, so pathologists prefer the term acute tubular injury. The constellation of changes, broadly termed acute kidney injury, manifests clinically as decreased GFR with concurrent elevation of serum creatinine. ATI is the most common cause of acute kidney injury and may produce oliguria (defined as urine output of <400 mL/day).\n",
      "\n",
      "http://ebooksmedicine.net\n",
      "\n",
      "There are two forms of ATI that differ in the underlying causes.\n",
      "---\n",
      "Score: 0.4701605439186096\n",
      "Content: Shiga toxin–associated HUS is characterized by the sudden onset, usually after a gastrointestinal or flulike prodromal episode, of bleeding manifestations (especially hematemesis and melena), severe oliguria, hematuria, microangiopathic hemolytic anemia, and (in some individuals) prominent neurologic changes. This disease is one of the main causes of acute kidney injury in children. If the acute kidney injury is managed properly with dialysis, most patients recover in a matter of weeks. The long-term prognosis (over 15–25 years), however, is not uniformly favorable, as about 25% of affected children eventually develop renal insufficiency.\n",
      "---\n",
      "Score: 0.47786176204681396\n",
      "Content: Most forms of tubular injury also involve the interstitium, so the two are discussed together. Presented under this heading are diseases characterized by (1) inflammatory involvement of the tubules and interstitium (tubulointerstitial nephritis) and (2) ischemic or toxic tubular injury, leading to acute tubular injury and the clinical syndrome of acute kidney injury.\n",
      "---\n",
      "Score: 0.48641911149024963\n",
      "Content: Rapidly progressive glomerulonephritis (RPGN) results in rapid loss of renal function in a few days or weeks, typically in the setting of nephritic syndrome. The characteristic histologic finding associated with RPGN is the presence of crescents (crescentic GN). Rapidly progressive glomerulonephritis is a clinical syndrome and not a specific etiologic form of GN. If untreated, it leads to death from renal failure within a period of weeks to months.\n",
      "\n",
      "Acute kidney injury refers to abrupt onset of renal dysfunction characterized by an acute increase in serum creatinine often associated with oliguria or anuria (decreased or no urine flow). It can result from glomerular injury (such as rapidly progressive GN), interstitial injury, vascular injury (such as thrombotic microangiopathy), or acute tubular epithelial cell injury.\n",
      "---\n"
     ]
    }
   ],
   "source": [
    "# Method 2: Using similarity_search_with_score\n",
    "relevant_documents_with_scores = loaded_db.similarity_search_with_score(query, k=4)\n",
    "for doc, score in relevant_documents_with_scores:\n",
    "    print(f\"Score: {score}\")\n",
    "    print(f\"Content: {doc.page_content}\")\n",
    "    print(\"---\")"
   ]
  },
  {
   "cell_type": "markdown",
   "id": "5236ac05-e5a8-4f03-b9ec-e0b83e11b9c0",
   "metadata": {},
   "source": [
    "---\n",
    "## Create RAG with Langchain and LLM hosted on SageMaker\n"
   ]
  },
  {
   "cell_type": "code",
   "execution_count": 35,
   "id": "56979751-4267-485b-90cd-3a86654109ed",
   "metadata": {},
   "outputs": [],
   "source": [
    "import boto3\n",
    "import json\n",
    "from langchain.llms import SagemakerEndpoint\n",
    "from langchain.llms.sagemaker_endpoint import LLMContentHandler\n",
    "from typing import Any, Dict, List, Optional\n",
    "import os\n",
    "\n",
    "\n",
    "# Ensure correct naming\n",
    "os.environ[\"AWS_DEFAULT_REGION\"] = REGION_NAME\n",
    "\n",
    "#Text Generation with Mistal\n",
    "class ContentHandlerFalcon(LLMContentHandler):\n",
    "    content_type = \"application/json\"\n",
    "    accepts = \"text/plain\"\n",
    "\n",
    "    def transform_input(self, prompt: str, model_kwargs={}) -> bytes:\n",
    "        # Format the prompt according to Falcon-Instruct expectations\n",
    "        formatted_prompt = f\"{prompt}\"\n",
    "        input_str = json.dumps({\n",
    "            \"inputs\": formatted_prompt,\n",
    "            \"parameters\": {\n",
    "                \"max_new_tokens\": 500,\n",
    "                \"temperature\": 0.7,\n",
    "                \"top_p\": 0.95,\n",
    "                \"do_sample\": True\n",
    "            }\n",
    "        })\n",
    "        return input_str.encode(\"utf-8\")\n",
    "\n",
    "    def transform_output(self, output: bytes) -> str:\n",
    "        try:\n",
    "            raw_response = output.read().decode(\"utf-8\")\n",
    "            print(f\"Raw response from model: {raw_response}\")  # Debug print\n",
    "            response_json = json.loads(raw_response)\n",
    "            \n",
    "            if isinstance(response_json, list) and len(response_json) > 0:\n",
    "                if \"generated_text\" in response_json[0]:\n",
    "                    return response_json[0][\"generated_text\"]\n",
    "            elif isinstance(response_json, dict):\n",
    "                return response_json.get(\"generated_text\", \"\")\n",
    "            \n",
    "            print(f\"Unexpected response format: {response_json}\")  # Debug print\n",
    "            return \"\"\n",
    "        except Exception as e:\n",
    "            print(f\"Error processing output: {str(e)}\")\n",
    "            return \"\"\n",
    "\n",
    "content_handler_falcon = ContentHandlerFalcon()\n",
    "\n",
    "llm = SagemakerEndpoint(\n",
    "    endpoint_name=TEXT_GENERATION_MODEL_ENDPOINT_NAME,\n",
    "    region_name=REGION_NAME,\n",
    "    content_handler=content_handler_falcon,\n",
    "    model_kwargs={\"max_new_tokens\": 500}  # Simplify parameters\n",
    ")\n"
   ]
  },
  {
   "cell_type": "code",
   "execution_count": 36,
   "id": "bd356e4d-d9ea-4c74-a073-6cc95d6e7c26",
   "metadata": {},
   "outputs": [],
   "source": [
    "# RAG QA Chain\n",
    "qa_chain = RetrievalQA.from_chain_type(\n",
    "    llm=llm,\n",
    "    chain_type=\"stuff\",\n",
    "    retriever=db.as_retriever(search_kwargs={\"k\": 1}),\n",
    "    return_source_documents=True,\n",
    "    verbose=True  # Add this to see the chain's operation\n",
    ")\n"
   ]
  },
  {
   "cell_type": "code",
   "execution_count": 37,
   "id": "e3297dd8-990e-4c81-beea-eeaa4f76dfe5",
   "metadata": {},
   "outputs": [
    {
     "name": "stdout",
     "output_type": "stream",
     "text": [
      "\n",
      "\n",
      "\u001b[1m> Entering new RetrievalQA chain...\u001b[0m\n",
      "Raw response from model: {\"generated_text\": \" Heart failure can be caused by either systolic or diastolic dysfunction. Systolic dysfunction results from weakened heart muscle contractions, often due to ischemic heart disease or hypertension. Diastolic dysfunction is characterized by an inability of the heart to relax and fill properly, and can be caused by conditions such as massive left ventricular hypertrophy, myocardial fibrosis, amyloid deposition, or constrictive pericarditis. Approximately half of heart failure cases are caused by diastolic dysfunction, and it is more common in older adults, diabetic patients, and women. Other causes of heart failure include valve dysfunction and rapid increases in blood volume or pressure.\"}\n",
      "\n",
      "\u001b[1m> Finished chain.\u001b[0m\n",
      "Question: What are the main causes of heart failure?\n",
      "Answer:  Heart failure can be caused by either systolic or diastolic dysfunction. Systolic dysfunction results from weakened heart muscle contractions, often due to ischemic heart disease or hypertension. Diastolic dysfunction is characterized by an inability of the heart to relax and fill properly, and can be caused by conditions such as massive left ventricular hypertrophy, myocardial fibrosis, amyloid deposition, or constrictive pericarditis. Approximately half of heart failure cases are caused by diastolic dysfunction, and it is more common in older adults, diabetic patients, and women. Other causes of heart failure include valve dysfunction and rapid increases in blood volume or pressure.\n",
      "Source Documents: [Document(id='5965e68c-a061-4e1a-94f9-6709794f9dde', metadata={'source': './Pathology_Robbins.txt'}, page_content='Heart failure may result from systolic or diastolic dysfunction. Systolic dysfunction results from inadequate myocardial contractile function, usually as a consequence of ischemic heart disease or hypertension. Diastolic dysfunction refers to an inability of the heart to adequately relax and fill, which may be a consequence of massive left ventricular hypertrophy, myocardial fibrosis, amyloid deposition, or constrictive pericarditis. Approximately one half of CHF cases are attributable to diastolic dysfunction, with a greater frequency seen in older adults, diabetic patients, and women. Heart failure may also be caused by valve dysfunction (e.g., due to endocarditis), or may occur following rapid increases in blood volume or blood pressure, even if the heart is normal.')]\n"
     ]
    }
   ],
   "source": [
    "# Example Question\n",
    "try:\n",
    "    query = \"What are the main causes of heart failure?\"\n",
    "    result = qa_chain({\"query\": query})\n",
    "    print(\"Question:\", query)\n",
    "    print(\"Answer:\", result[\"result\"])\n",
    "    print(\"Source Documents:\", result[\"source_documents\"])\n",
    "except Exception as e:\n",
    "    print(f\"Error during query: {str(e)}\")\n"
   ]
  },
  {
   "cell_type": "code",
   "execution_count": null,
   "id": "54c71bba-eafe-432c-95aa-3a7ad699fca1",
   "metadata": {},
   "outputs": [],
   "source": []
  }
 ],
 "metadata": {
  "availableInstances": [
   {
    "_defaultOrder": 0,
    "_isFastLaunch": true,
    "category": "General purpose",
    "gpuNum": 0,
    "hideHardwareSpecs": false,
    "memoryGiB": 4,
    "name": "ml.t3.medium",
    "vcpuNum": 2
   },
   {
    "_defaultOrder": 1,
    "_isFastLaunch": false,
    "category": "General purpose",
    "gpuNum": 0,
    "hideHardwareSpecs": false,
    "memoryGiB": 8,
    "name": "ml.t3.large",
    "vcpuNum": 2
   },
   {
    "_defaultOrder": 2,
    "_isFastLaunch": false,
    "category": "General purpose",
    "gpuNum": 0,
    "hideHardwareSpecs": false,
    "memoryGiB": 16,
    "name": "ml.t3.xlarge",
    "vcpuNum": 4
   },
   {
    "_defaultOrder": 3,
    "_isFastLaunch": false,
    "category": "General purpose",
    "gpuNum": 0,
    "hideHardwareSpecs": false,
    "memoryGiB": 32,
    "name": "ml.t3.2xlarge",
    "vcpuNum": 8
   },
   {
    "_defaultOrder": 4,
    "_isFastLaunch": true,
    "category": "General purpose",
    "gpuNum": 0,
    "hideHardwareSpecs": false,
    "memoryGiB": 8,
    "name": "ml.m5.large",
    "vcpuNum": 2
   },
   {
    "_defaultOrder": 5,
    "_isFastLaunch": false,
    "category": "General purpose",
    "gpuNum": 0,
    "hideHardwareSpecs": false,
    "memoryGiB": 16,
    "name": "ml.m5.xlarge",
    "vcpuNum": 4
   },
   {
    "_defaultOrder": 6,
    "_isFastLaunch": false,
    "category": "General purpose",
    "gpuNum": 0,
    "hideHardwareSpecs": false,
    "memoryGiB": 32,
    "name": "ml.m5.2xlarge",
    "vcpuNum": 8
   },
   {
    "_defaultOrder": 7,
    "_isFastLaunch": false,
    "category": "General purpose",
    "gpuNum": 0,
    "hideHardwareSpecs": false,
    "memoryGiB": 64,
    "name": "ml.m5.4xlarge",
    "vcpuNum": 16
   },
   {
    "_defaultOrder": 8,
    "_isFastLaunch": false,
    "category": "General purpose",
    "gpuNum": 0,
    "hideHardwareSpecs": false,
    "memoryGiB": 128,
    "name": "ml.m5.8xlarge",
    "vcpuNum": 32
   },
   {
    "_defaultOrder": 9,
    "_isFastLaunch": false,
    "category": "General purpose",
    "gpuNum": 0,
    "hideHardwareSpecs": false,
    "memoryGiB": 192,
    "name": "ml.m5.12xlarge",
    "vcpuNum": 48
   },
   {
    "_defaultOrder": 10,
    "_isFastLaunch": false,
    "category": "General purpose",
    "gpuNum": 0,
    "hideHardwareSpecs": false,
    "memoryGiB": 256,
    "name": "ml.m5.16xlarge",
    "vcpuNum": 64
   },
   {
    "_defaultOrder": 11,
    "_isFastLaunch": false,
    "category": "General purpose",
    "gpuNum": 0,
    "hideHardwareSpecs": false,
    "memoryGiB": 384,
    "name": "ml.m5.24xlarge",
    "vcpuNum": 96
   },
   {
    "_defaultOrder": 12,
    "_isFastLaunch": false,
    "category": "General purpose",
    "gpuNum": 0,
    "hideHardwareSpecs": false,
    "memoryGiB": 8,
    "name": "ml.m5d.large",
    "vcpuNum": 2
   },
   {
    "_defaultOrder": 13,
    "_isFastLaunch": false,
    "category": "General purpose",
    "gpuNum": 0,
    "hideHardwareSpecs": false,
    "memoryGiB": 16,
    "name": "ml.m5d.xlarge",
    "vcpuNum": 4
   },
   {
    "_defaultOrder": 14,
    "_isFastLaunch": false,
    "category": "General purpose",
    "gpuNum": 0,
    "hideHardwareSpecs": false,
    "memoryGiB": 32,
    "name": "ml.m5d.2xlarge",
    "vcpuNum": 8
   },
   {
    "_defaultOrder": 15,
    "_isFastLaunch": false,
    "category": "General purpose",
    "gpuNum": 0,
    "hideHardwareSpecs": false,
    "memoryGiB": 64,
    "name": "ml.m5d.4xlarge",
    "vcpuNum": 16
   },
   {
    "_defaultOrder": 16,
    "_isFastLaunch": false,
    "category": "General purpose",
    "gpuNum": 0,
    "hideHardwareSpecs": false,
    "memoryGiB": 128,
    "name": "ml.m5d.8xlarge",
    "vcpuNum": 32
   },
   {
    "_defaultOrder": 17,
    "_isFastLaunch": false,
    "category": "General purpose",
    "gpuNum": 0,
    "hideHardwareSpecs": false,
    "memoryGiB": 192,
    "name": "ml.m5d.12xlarge",
    "vcpuNum": 48
   },
   {
    "_defaultOrder": 18,
    "_isFastLaunch": false,
    "category": "General purpose",
    "gpuNum": 0,
    "hideHardwareSpecs": false,
    "memoryGiB": 256,
    "name": "ml.m5d.16xlarge",
    "vcpuNum": 64
   },
   {
    "_defaultOrder": 19,
    "_isFastLaunch": false,
    "category": "General purpose",
    "gpuNum": 0,
    "hideHardwareSpecs": false,
    "memoryGiB": 384,
    "name": "ml.m5d.24xlarge",
    "vcpuNum": 96
   },
   {
    "_defaultOrder": 20,
    "_isFastLaunch": false,
    "category": "General purpose",
    "gpuNum": 0,
    "hideHardwareSpecs": true,
    "memoryGiB": 0,
    "name": "ml.geospatial.interactive",
    "supportedImageNames": [
     "sagemaker-geospatial-v1-0"
    ],
    "vcpuNum": 0
   },
   {
    "_defaultOrder": 21,
    "_isFastLaunch": true,
    "category": "Compute optimized",
    "gpuNum": 0,
    "hideHardwareSpecs": false,
    "memoryGiB": 4,
    "name": "ml.c5.large",
    "vcpuNum": 2
   },
   {
    "_defaultOrder": 22,
    "_isFastLaunch": false,
    "category": "Compute optimized",
    "gpuNum": 0,
    "hideHardwareSpecs": false,
    "memoryGiB": 8,
    "name": "ml.c5.xlarge",
    "vcpuNum": 4
   },
   {
    "_defaultOrder": 23,
    "_isFastLaunch": false,
    "category": "Compute optimized",
    "gpuNum": 0,
    "hideHardwareSpecs": false,
    "memoryGiB": 16,
    "name": "ml.c5.2xlarge",
    "vcpuNum": 8
   },
   {
    "_defaultOrder": 24,
    "_isFastLaunch": false,
    "category": "Compute optimized",
    "gpuNum": 0,
    "hideHardwareSpecs": false,
    "memoryGiB": 32,
    "name": "ml.c5.4xlarge",
    "vcpuNum": 16
   },
   {
    "_defaultOrder": 25,
    "_isFastLaunch": false,
    "category": "Compute optimized",
    "gpuNum": 0,
    "hideHardwareSpecs": false,
    "memoryGiB": 72,
    "name": "ml.c5.9xlarge",
    "vcpuNum": 36
   },
   {
    "_defaultOrder": 26,
    "_isFastLaunch": false,
    "category": "Compute optimized",
    "gpuNum": 0,
    "hideHardwareSpecs": false,
    "memoryGiB": 96,
    "name": "ml.c5.12xlarge",
    "vcpuNum": 48
   },
   {
    "_defaultOrder": 27,
    "_isFastLaunch": false,
    "category": "Compute optimized",
    "gpuNum": 0,
    "hideHardwareSpecs": false,
    "memoryGiB": 144,
    "name": "ml.c5.18xlarge",
    "vcpuNum": 72
   },
   {
    "_defaultOrder": 28,
    "_isFastLaunch": false,
    "category": "Compute optimized",
    "gpuNum": 0,
    "hideHardwareSpecs": false,
    "memoryGiB": 192,
    "name": "ml.c5.24xlarge",
    "vcpuNum": 96
   },
   {
    "_defaultOrder": 29,
    "_isFastLaunch": true,
    "category": "Accelerated computing",
    "gpuNum": 1,
    "hideHardwareSpecs": false,
    "memoryGiB": 16,
    "name": "ml.g4dn.xlarge",
    "vcpuNum": 4
   },
   {
    "_defaultOrder": 30,
    "_isFastLaunch": false,
    "category": "Accelerated computing",
    "gpuNum": 1,
    "hideHardwareSpecs": false,
    "memoryGiB": 32,
    "name": "ml.g4dn.2xlarge",
    "vcpuNum": 8
   },
   {
    "_defaultOrder": 31,
    "_isFastLaunch": false,
    "category": "Accelerated computing",
    "gpuNum": 1,
    "hideHardwareSpecs": false,
    "memoryGiB": 64,
    "name": "ml.g4dn.4xlarge",
    "vcpuNum": 16
   },
   {
    "_defaultOrder": 32,
    "_isFastLaunch": false,
    "category": "Accelerated computing",
    "gpuNum": 1,
    "hideHardwareSpecs": false,
    "memoryGiB": 128,
    "name": "ml.g4dn.8xlarge",
    "vcpuNum": 32
   },
   {
    "_defaultOrder": 33,
    "_isFastLaunch": false,
    "category": "Accelerated computing",
    "gpuNum": 4,
    "hideHardwareSpecs": false,
    "memoryGiB": 192,
    "name": "ml.g4dn.12xlarge",
    "vcpuNum": 48
   },
   {
    "_defaultOrder": 34,
    "_isFastLaunch": false,
    "category": "Accelerated computing",
    "gpuNum": 1,
    "hideHardwareSpecs": false,
    "memoryGiB": 256,
    "name": "ml.g4dn.16xlarge",
    "vcpuNum": 64
   },
   {
    "_defaultOrder": 35,
    "_isFastLaunch": false,
    "category": "Accelerated computing",
    "gpuNum": 1,
    "hideHardwareSpecs": false,
    "memoryGiB": 61,
    "name": "ml.p3.2xlarge",
    "vcpuNum": 8
   },
   {
    "_defaultOrder": 36,
    "_isFastLaunch": false,
    "category": "Accelerated computing",
    "gpuNum": 4,
    "hideHardwareSpecs": false,
    "memoryGiB": 244,
    "name": "ml.p3.8xlarge",
    "vcpuNum": 32
   },
   {
    "_defaultOrder": 37,
    "_isFastLaunch": false,
    "category": "Accelerated computing",
    "gpuNum": 8,
    "hideHardwareSpecs": false,
    "memoryGiB": 488,
    "name": "ml.p3.16xlarge",
    "vcpuNum": 64
   },
   {
    "_defaultOrder": 38,
    "_isFastLaunch": false,
    "category": "Accelerated computing",
    "gpuNum": 8,
    "hideHardwareSpecs": false,
    "memoryGiB": 768,
    "name": "ml.p3dn.24xlarge",
    "vcpuNum": 96
   },
   {
    "_defaultOrder": 39,
    "_isFastLaunch": false,
    "category": "Memory Optimized",
    "gpuNum": 0,
    "hideHardwareSpecs": false,
    "memoryGiB": 16,
    "name": "ml.r5.large",
    "vcpuNum": 2
   },
   {
    "_defaultOrder": 40,
    "_isFastLaunch": false,
    "category": "Memory Optimized",
    "gpuNum": 0,
    "hideHardwareSpecs": false,
    "memoryGiB": 32,
    "name": "ml.r5.xlarge",
    "vcpuNum": 4
   },
   {
    "_defaultOrder": 41,
    "_isFastLaunch": false,
    "category": "Memory Optimized",
    "gpuNum": 0,
    "hideHardwareSpecs": false,
    "memoryGiB": 64,
    "name": "ml.r5.2xlarge",
    "vcpuNum": 8
   },
   {
    "_defaultOrder": 42,
    "_isFastLaunch": false,
    "category": "Memory Optimized",
    "gpuNum": 0,
    "hideHardwareSpecs": false,
    "memoryGiB": 128,
    "name": "ml.r5.4xlarge",
    "vcpuNum": 16
   },
   {
    "_defaultOrder": 43,
    "_isFastLaunch": false,
    "category": "Memory Optimized",
    "gpuNum": 0,
    "hideHardwareSpecs": false,
    "memoryGiB": 256,
    "name": "ml.r5.8xlarge",
    "vcpuNum": 32
   },
   {
    "_defaultOrder": 44,
    "_isFastLaunch": false,
    "category": "Memory Optimized",
    "gpuNum": 0,
    "hideHardwareSpecs": false,
    "memoryGiB": 384,
    "name": "ml.r5.12xlarge",
    "vcpuNum": 48
   },
   {
    "_defaultOrder": 45,
    "_isFastLaunch": false,
    "category": "Memory Optimized",
    "gpuNum": 0,
    "hideHardwareSpecs": false,
    "memoryGiB": 512,
    "name": "ml.r5.16xlarge",
    "vcpuNum": 64
   },
   {
    "_defaultOrder": 46,
    "_isFastLaunch": false,
    "category": "Memory Optimized",
    "gpuNum": 0,
    "hideHardwareSpecs": false,
    "memoryGiB": 768,
    "name": "ml.r5.24xlarge",
    "vcpuNum": 96
   },
   {
    "_defaultOrder": 47,
    "_isFastLaunch": false,
    "category": "Accelerated computing",
    "gpuNum": 1,
    "hideHardwareSpecs": false,
    "memoryGiB": 16,
    "name": "ml.g5.xlarge",
    "vcpuNum": 4
   },
   {
    "_defaultOrder": 48,
    "_isFastLaunch": false,
    "category": "Accelerated computing",
    "gpuNum": 1,
    "hideHardwareSpecs": false,
    "memoryGiB": 32,
    "name": "ml.g5.2xlarge",
    "vcpuNum": 8
   },
   {
    "_defaultOrder": 49,
    "_isFastLaunch": false,
    "category": "Accelerated computing",
    "gpuNum": 1,
    "hideHardwareSpecs": false,
    "memoryGiB": 64,
    "name": "ml.g5.4xlarge",
    "vcpuNum": 16
   },
   {
    "_defaultOrder": 50,
    "_isFastLaunch": false,
    "category": "Accelerated computing",
    "gpuNum": 1,
    "hideHardwareSpecs": false,
    "memoryGiB": 128,
    "name": "ml.g5.8xlarge",
    "vcpuNum": 32
   },
   {
    "_defaultOrder": 51,
    "_isFastLaunch": false,
    "category": "Accelerated computing",
    "gpuNum": 1,
    "hideHardwareSpecs": false,
    "memoryGiB": 256,
    "name": "ml.g5.16xlarge",
    "vcpuNum": 64
   },
   {
    "_defaultOrder": 52,
    "_isFastLaunch": false,
    "category": "Accelerated computing",
    "gpuNum": 4,
    "hideHardwareSpecs": false,
    "memoryGiB": 192,
    "name": "ml.g5.12xlarge",
    "vcpuNum": 48
   },
   {
    "_defaultOrder": 53,
    "_isFastLaunch": false,
    "category": "Accelerated computing",
    "gpuNum": 4,
    "hideHardwareSpecs": false,
    "memoryGiB": 384,
    "name": "ml.g5.24xlarge",
    "vcpuNum": 96
   },
   {
    "_defaultOrder": 54,
    "_isFastLaunch": false,
    "category": "Accelerated computing",
    "gpuNum": 8,
    "hideHardwareSpecs": false,
    "memoryGiB": 768,
    "name": "ml.g5.48xlarge",
    "vcpuNum": 192
   },
   {
    "_defaultOrder": 55,
    "_isFastLaunch": false,
    "category": "Accelerated computing",
    "gpuNum": 8,
    "hideHardwareSpecs": false,
    "memoryGiB": 1152,
    "name": "ml.p4d.24xlarge",
    "vcpuNum": 96
   },
   {
    "_defaultOrder": 56,
    "_isFastLaunch": false,
    "category": "Accelerated computing",
    "gpuNum": 8,
    "hideHardwareSpecs": false,
    "memoryGiB": 1152,
    "name": "ml.p4de.24xlarge",
    "vcpuNum": 96
   },
   {
    "_defaultOrder": 57,
    "_isFastLaunch": false,
    "category": "Accelerated computing",
    "gpuNum": 0,
    "hideHardwareSpecs": false,
    "memoryGiB": 32,
    "name": "ml.trn1.2xlarge",
    "vcpuNum": 8
   },
   {
    "_defaultOrder": 58,
    "_isFastLaunch": false,
    "category": "Accelerated computing",
    "gpuNum": 0,
    "hideHardwareSpecs": false,
    "memoryGiB": 512,
    "name": "ml.trn1.32xlarge",
    "vcpuNum": 128
   },
   {
    "_defaultOrder": 59,
    "_isFastLaunch": false,
    "category": "Accelerated computing",
    "gpuNum": 0,
    "hideHardwareSpecs": false,
    "memoryGiB": 512,
    "name": "ml.trn1n.32xlarge",
    "vcpuNum": 128
   }
  ],
  "instance_type": "ml.m5.2xlarge",
  "kernelspec": {
   "display_name": "Python 3 (ipykernel)",
   "language": "python",
   "name": "python3"
  },
  "language_info": {
   "codemirror_mode": {
    "name": "ipython",
    "version": 3
   },
   "file_extension": ".py",
   "mimetype": "text/x-python",
   "name": "python",
   "nbconvert_exporter": "python",
   "pygments_lexer": "ipython3",
   "version": "3.11.11"
  }
 },
 "nbformat": 4,
 "nbformat_minor": 5
}
